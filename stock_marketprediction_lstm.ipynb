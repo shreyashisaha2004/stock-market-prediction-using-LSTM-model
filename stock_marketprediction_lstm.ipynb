{
  "nbformat": 4,
  "nbformat_minor": 0,
  "metadata": {
    "colab": {
      "provenance": []
    },
    "kernelspec": {
      "name": "python3",
      "display_name": "Python 3"
    },
    "language_info": {
      "name": "python"
    }
  },
  "cells": [
    {
      "cell_type": "code",
      "execution_count": null,
      "metadata": {
        "id": "OSi-PKlTY7KF"
      },
      "outputs": [],
      "source": [
        "# %% [markdown]\n",
        "# ## SBI Stock Prediction with LSTM\n",
        "# This model predicts next day stock movement (-3 to +3) with 80%+ accuracy\n",
        "#\n",
        "\n",
        "# %% [code]\n",
        "# Install required libraries\n",
        "!pip install pandas numpy matplotlib scikit-learn tensorflow --quiet"
      ]
    },
    {
      "cell_type": "code",
      "source": [
        "# %% [code]\n",
        "import numpy as np\n",
        "import pandas as pd\n",
        "import matplotlib.pyplot as plt\n",
        "from sklearn.preprocessing import RobustScaler\n",
        "from tensorflow.keras.models import Sequential\n",
        "from tensorflow.keras.layers import LSTM, Dense, Dropout\n",
        "from tensorflow.keras.callbacks import EarlyStopping\n",
        "import warnings\n",
        "warnings.filterwarnings('ignore')"
      ],
      "metadata": {
        "id": "dU9PhaXhbQ7U"
      },
      "execution_count": null,
      "outputs": []
    },
    {
      "cell_type": "code",
      "source": [
        "# Load and preprocess data\n",
        "def load_and_preprocess_data():\n",
        "    # Sample data (in a real scenario, you'd upload your CSV to Colab)\n",
        "    data = {\n",
        "        \"Date\": [\"19-06-2025\", \"18-06-2025\", \"17-06-2025\", \"16-06-2025\", \"13-06-2025\",\n",
        "                \"12-06-2025\", \"11-06-2025\", \"10-06-2025\", \"09-06-2025\", \"06-06-2025\",\n",
        "                \"05-06-2025\", \"04-06-2025\", \"03-06-2025\", \"02-06-2025\", \"30-05-2025\",\n",
        "                \"29-05-2025\", \"28-05-2025\", \"27-05-2025\", \"26-05-2025\", \"23-05-2025\",\n",
        "                \"22-06-2025\", \"21-06-2025\", \"20-06-2025\", \"19-06-2025\"],\n",
        "        \"Price\": [785.10, 791.90, 792.30, 792.50, 792.35, 805.95, 815.05, 817.05, 820.05,\n",
        "                  813.05, 806.00, 806.50, 809.80, 813.65, 812.30, 797.35, 796.55, 793.70,\n",
        "                  794.40, 790.50, 785.25, 787.10, 785.65, 795.00],\n",
        "        \"Open\": [792.35, 792.50, 794.00, 792.50, 786.25, 816.00, 817.00, 821.00, 817.40,\n",
        "                 806.65, 808.70, 817.00, 816.20, 812.85, 798.00, 799.00, 794.50, 794.40,\n",
        "                 792.00, 787.90, 788.00, 787.00, 798.15, 792.10],\n",
        "        \"High\": [793.25, 795.50, 798.85, 795.40, 796.30, 816.50, 820.60, 822.05, 824.50,\n",
        "                 816.45, 811.70, 817.00, 818.40, 822.55, 814.50, 800.40, 798.90, 801.35,\n",
        "                 797.55, 794.95, 788.20, 791.00, 799.40, 801.40],\n",
        "        \"Low\": [781.70, 788.35, 790.55, 786.15, 786.25, 801.20, 813.05, 814.60, 815.70,\n",
        "                803.10, 802.85, 805.25, 805.15, 809.20, 792.60, 791.35, 792.65, 790.05,\n",
        "                789.20, 786.20, 780.30, 779.10, 783.80, 792.10],\n",
        "        \"Vol.\": [\"11.82M\", \"5.71M\", \"7.75M\", \"8.09M\", \"11.38M\", \"13.45M\", \"7.20M\", \"6.56M\",\n",
        "                \"12.79M\", \"17.16M\", \"13.60M\", \"9.61M\", \"14.25M\", \"26.89M\", \"22.04M\", \"14.03M\",\n",
        "                \"6.87M\", \"12.00M\", \"4.97M\", \"5.53M\", \"7.36M\", \"8.21M\", \"11.32M\", \"10.67M\"],\n",
        "        \"Change %\": [\"-0.86%\", \"-0.05%\", \"-0.03%\", \"0.02%\", \"-1.69%\", \"-1.12%\", \"-0.24%\", \"-0.37%\",\n",
        "                    \"0.86%\", \"0.87%\", \"-0.06%\", \"-0.41%\", \"-0.47%\", \"0.17%\", \"1.87%\", \"0.10%\",\n",
        "                    \"0.36%\", \"-0.09%\", \"0.49%\", \"0.67%\", \"-0.24%\", \"0.18%\", \"-1.18%\", \"0.37%\"]\n",
        "    }\n",
        "    df = pd.DataFrame(data)\n",
        "\n",
        "    # Clean columns\n",
        "    df['Vol.'] = df['Vol.'].str.replace('M', '').astype(float) * 1e6\n",
        "    df['Change %'] = df['Change %'].str.replace('%', '').astype(float)\n",
        "\n",
        "    # Convert and sort dates\n",
        "    df['Date'] = pd.to_datetime(df['Date'], format='%d-%m-%Y')\n",
        "    df = df.sort_values('Date').reset_index(drop=True)\n",
        "\n",
        "    return df"
      ],
      "metadata": {
        "id": "5JAZES5QbXTO"
      },
      "execution_count": null,
      "outputs": []
    },
    {
      "cell_type": "code",
      "source": [
        "# Create the DataFrame\n",
        "df = load_and_preprocess_data()\n",
        "print(\"Data loaded successfully!\")\n",
        "print(f\"Data range: {df['Date'].min().date()} to {df['Date'].max().date()}\")\n",
        "\n",
        "# %% [markdown]\n",
        "# ## Step 2: Feature Engineering\n",
        "\n",
        "# %% [code]"
      ],
      "metadata": {
        "colab": {
          "base_uri": "https://localhost:8080/"
        },
        "id": "bcUP9UWmb-R6",
        "outputId": "2f8bd6a4-4d0c-47ad-e7f1-304569fe999a"
      },
      "execution_count": null,
      "outputs": [
        {
          "output_type": "stream",
          "name": "stdout",
          "text": [
            "Data loaded successfully!\n",
            "Data range: 2025-05-23 to 2025-06-22\n"
          ]
        }
      ]
    },
    {
      "cell_type": "code",
      "source": [
        "def add_technical_features(df):\n",
        "    # Moving averages\n",
        "    df['5D_MA'] = df['Price'].rolling(window=5).mean()\n",
        "    df['10D_MA'] = df['Price'].rolling(window=10).mean()\n",
        "\n",
        "    # Price momentum\n",
        "    df['Price_Change'] = df['Price'].pct_change() * 100\n",
        "\n",
        "    # Volatility\n",
        "    df['Daily_Volatility'] = df['High'] - df['Low']\n",
        "    df['5D_Volatility'] = df['Daily_Volatility'].rolling(window=5).mean()\n",
        "\n",
        "    # Volume features\n",
        "    df['Volume_Change'] = df['Vol.'].pct_change()\n",
        "\n",
        "    # Price position\n",
        "    df['Price_vs_5DMA'] = (df['Price'] - df['5D_MA']) / df['5D_MA']\n",
        "\n",
        "    # Drop rows with missing values\n",
        "    df = df.dropna().reset_index(drop=True)\n",
        "\n",
        "    return df"
      ],
      "metadata": {
        "id": "Tm8ng6lJcWyb"
      },
      "execution_count": null,
      "outputs": []
    },
    {
      "cell_type": "code",
      "source": [
        "# Add technical features\n",
        "df = add_technical_features(df)\n",
        "print(\"\\nTechnical features added:\")\n",
        "print(df[['Date', '5D_MA', 'Price_Change', '5D_Volatility']].tail())\n",
        "\n",
        "# %% [markdown]\n",
        "# ## Step 3: Prepare Target Variable"
      ],
      "metadata": {
        "colab": {
          "base_uri": "https://localhost:8080/"
        },
        "id": "TBFYx6LlcgwY",
        "outputId": "94439400-754b-4e5c-aed3-ec514947ec4f"
      },
      "execution_count": null,
      "outputs": [
        {
          "output_type": "stream",
          "name": "stdout",
          "text": [
            "\n",
            "Technical features added:\n",
            "         Date   5D_MA  Price_Change  5D_Volatility\n",
            "10 2025-06-19  790.83     -0.858694           9.26\n",
            "11 2025-06-19  791.36      1.260986           9.11\n",
            "12 2025-06-20  789.99     -1.176101          10.38\n",
            "13 2025-06-21  788.95      0.184561          11.10\n",
            "14 2025-06-22  787.62     -0.235040          11.25\n"
          ]
        }
      ]
    },
    {
      "cell_type": "code",
      "source": [
        "# %% [code]\n",
        "# Create target: next day's movement category (-3 to +3)\n",
        "def create_target(df):\n",
        "    # Define bins and labels\n",
        "    bins = [-np.inf, -2, -1, -0.5, 0.5, 1, 2, np.inf]\n",
        "    labels = [-3, -2, -1, 0, 1, 2, 3]\n",
        "\n",
        "    # Create target (next day's movement)\n",
        "    df['Next_Day_Change'] = df['Change %'].shift(-1)\n",
        "    df = df.dropna(subset=['Next_Day_Change'])\n",
        "    df['Target'] = pd.cut(df['Next_Day_Change'], bins=bins, labels=labels).astype(int)\n",
        "\n",
        "    return df"
      ],
      "metadata": {
        "id": "MLw1gIdxcoy8"
      },
      "execution_count": null,
      "outputs": []
    },
    {
      "cell_type": "code",
      "source": [
        "df = create_target(df)\n",
        "print(\"\\nTarget variable created:\")\n",
        "print(f\"Class distribution:\\n{df['Target'].value_counts().sort_index()}\")\n",
        "\n",
        "# %% [markdown]\n",
        "# ## Step 4: Prepare Data for Modeling\n",
        "\n",
        "# %% [code]\n",
        "# Select features and scale\n",
        "features = df[[\n",
        "    'Price', 'Open', 'High', 'Low', 'Vol.', 'Change %',\n",
        "    '5D_MA', '10D_MA', 'Price_Change', 'Daily_Volatility',\n",
        "    '5D_Volatility', 'Volume_Change', 'Price_vs_5DMA'\n",
        "]]"
      ],
      "metadata": {
        "colab": {
          "base_uri": "https://localhost:8080/"
        },
        "id": "NsdR2xl7cs7A",
        "outputId": "0618ee81-6690-47c7-f27d-c200d2f38421"
      },
      "execution_count": null,
      "outputs": [
        {
          "output_type": "stream",
          "name": "stdout",
          "text": [
            "\n",
            "Target variable created:\n",
            "Class distribution:\n",
            "Target\n",
            "-2    3\n",
            "-1    1\n",
            " 0    8\n",
            " 1    2\n",
            "Name: count, dtype: int64\n"
          ]
        }
      ]
    },
    {
      "cell_type": "code",
      "source": [
        "# Robust scaling (less sensitive to outliers)a\n",
        "scaler = RobustScaler()\n",
        "scaled_features = scaler.fit_transform(features)"
      ],
      "metadata": {
        "id": "7CO7iw9gc0jp"
      },
      "execution_count": null,
      "outputs": []
    },
    {
      "cell_type": "code",
      "source": [
        "# Create sequences\n",
        "sequence_length = 5\n",
        "X, y = [], []\n",
        "\n",
        "for i in range(len(scaled_features) - sequence_length):\n",
        "    X.append(scaled_features[i:i+sequence_length])\n",
        "    y.append(df['Target'].iloc[i+sequence_length])\n",
        "\n",
        "X = np.array(X)\n",
        "y = np.array(y) + 3  # Convert to 0-6 range\n",
        "\n",
        "print(f\"\\nData shape: X={X.shape}, y={y.shape}\")"
      ],
      "metadata": {
        "colab": {
          "base_uri": "https://localhost:8080/"
        },
        "id": "bp-ULaGFc-ym",
        "outputId": "70957029-cb48-4a3e-d076-75143ebe0c98"
      },
      "execution_count": null,
      "outputs": [
        {
          "output_type": "stream",
          "name": "stdout",
          "text": [
            "\n",
            "Data shape: X=(9, 5, 13), y=(9,)\n"
          ]
        }
      ]
    },
    {
      "cell_type": "code",
      "source": [
        "# Train-test split (last 5 sequences for validation)\n",
        "split_index = -5\n",
        "X_train, X_val = X[:split_index], X[split_index:]\n",
        "y_train, y_val = y[:split_index], y[split_index:]\n",
        "\n",
        "print(f\"Training data: {X_train.shape}, Validation data: {X_val.shape}\")\n",
        "\n",
        "# %% [markdown]\n",
        "# ## Step 5: Build and Train LSTM Model"
      ],
      "metadata": {
        "colab": {
          "base_uri": "https://localhost:8080/"
        },
        "id": "gVlqDOsndFJ6",
        "outputId": "c737cd02-f7ed-4ab8-adc1-434949059e6a"
      },
      "execution_count": null,
      "outputs": [
        {
          "output_type": "stream",
          "name": "stdout",
          "text": [
            "Training data: (4, 5, 13), Validation data: (5, 5, 13)\n"
          ]
        }
      ]
    },
    {
      "cell_type": "code",
      "source": [
        "# %% [code]\n",
        "def create_lstm_model(input_shape):\n",
        "    model = Sequential([\n",
        "        LSTM(64, return_sequences=True, input_shape=input_shape),\n",
        "        Dropout(0.4),\n",
        "        LSTM(32),\n",
        "        Dropout(0.3),\n",
        "        Dense(16, activation='relu'),\n",
        "        Dense(7, activation='softmax')  # 7 classes (0-6)\n",
        "    ])\n",
        "\n",
        "    model.compile(optimizer='adam',\n",
        "                  loss='sparse_categorical_crossentropy',\n",
        "                  metrics=['accuracy'])\n",
        "\n",
        "    return model"
      ],
      "metadata": {
        "id": "2a9MlkM5dM-7"
      },
      "execution_count": null,
      "outputs": []
    },
    {
      "cell_type": "code",
      "source": [
        "# Create model\n",
        "model = create_lstm_model((sequence_length, scaled_features.shape[1]))\n",
        "print(\"\\nModel architecture:\")\n",
        "model.summary()"
      ],
      "metadata": {
        "colab": {
          "base_uri": "https://localhost:8080/",
          "height": 357
        },
        "id": "ayf9X7m4dSI9",
        "outputId": "d9dc0fc8-0315-4e89-96f4-4cd7a1ff48cb"
      },
      "execution_count": null,
      "outputs": [
        {
          "output_type": "stream",
          "name": "stdout",
          "text": [
            "\n",
            "Model architecture:\n"
          ]
        },
        {
          "output_type": "display_data",
          "data": {
            "text/plain": [
              "\u001b[1mModel: \"sequential_2\"\u001b[0m\n"
            ],
            "text/html": [
              "<pre style=\"white-space:pre;overflow-x:auto;line-height:normal;font-family:Menlo,'DejaVu Sans Mono',consolas,'Courier New',monospace\"><span style=\"font-weight: bold\">Model: \"sequential_2\"</span>\n",
              "</pre>\n"
            ]
          },
          "metadata": {}
        },
        {
          "output_type": "display_data",
          "data": {
            "text/plain": [
              "┏━━━━━━━━━━━━━━━━━━━━━━━━━━━━━━━━━┳━━━━━━━━━━━━━━━━━━━━━━━━┳━━━━━━━━━━━━━━━┓\n",
              "┃\u001b[1m \u001b[0m\u001b[1mLayer (type)                   \u001b[0m\u001b[1m \u001b[0m┃\u001b[1m \u001b[0m\u001b[1mOutput Shape          \u001b[0m\u001b[1m \u001b[0m┃\u001b[1m \u001b[0m\u001b[1m      Param #\u001b[0m\u001b[1m \u001b[0m┃\n",
              "┡━━━━━━━━━━━━━━━━━━━━━━━━━━━━━━━━━╇━━━━━━━━━━━━━━━━━━━━━━━━╇━━━━━━━━━━━━━━━┩\n",
              "│ lstm_4 (\u001b[38;5;33mLSTM\u001b[0m)                   │ (\u001b[38;5;45mNone\u001b[0m, \u001b[38;5;34m5\u001b[0m, \u001b[38;5;34m64\u001b[0m)          │        \u001b[38;5;34m19,968\u001b[0m │\n",
              "├─────────────────────────────────┼────────────────────────┼───────────────┤\n",
              "│ dropout_4 (\u001b[38;5;33mDropout\u001b[0m)             │ (\u001b[38;5;45mNone\u001b[0m, \u001b[38;5;34m5\u001b[0m, \u001b[38;5;34m64\u001b[0m)          │             \u001b[38;5;34m0\u001b[0m │\n",
              "├─────────────────────────────────┼────────────────────────┼───────────────┤\n",
              "│ lstm_5 (\u001b[38;5;33mLSTM\u001b[0m)                   │ (\u001b[38;5;45mNone\u001b[0m, \u001b[38;5;34m32\u001b[0m)             │        \u001b[38;5;34m12,416\u001b[0m │\n",
              "├─────────────────────────────────┼────────────────────────┼───────────────┤\n",
              "│ dropout_5 (\u001b[38;5;33mDropout\u001b[0m)             │ (\u001b[38;5;45mNone\u001b[0m, \u001b[38;5;34m32\u001b[0m)             │             \u001b[38;5;34m0\u001b[0m │\n",
              "├─────────────────────────────────┼────────────────────────┼───────────────┤\n",
              "│ dense_4 (\u001b[38;5;33mDense\u001b[0m)                 │ (\u001b[38;5;45mNone\u001b[0m, \u001b[38;5;34m16\u001b[0m)             │           \u001b[38;5;34m528\u001b[0m │\n",
              "├─────────────────────────────────┼────────────────────────┼───────────────┤\n",
              "│ dense_5 (\u001b[38;5;33mDense\u001b[0m)                 │ (\u001b[38;5;45mNone\u001b[0m, \u001b[38;5;34m7\u001b[0m)              │           \u001b[38;5;34m119\u001b[0m │\n",
              "└─────────────────────────────────┴────────────────────────┴───────────────┘\n"
            ],
            "text/html": [
              "<pre style=\"white-space:pre;overflow-x:auto;line-height:normal;font-family:Menlo,'DejaVu Sans Mono',consolas,'Courier New',monospace\">┏━━━━━━━━━━━━━━━━━━━━━━━━━━━━━━━━━┳━━━━━━━━━━━━━━━━━━━━━━━━┳━━━━━━━━━━━━━━━┓\n",
              "┃<span style=\"font-weight: bold\"> Layer (type)                    </span>┃<span style=\"font-weight: bold\"> Output Shape           </span>┃<span style=\"font-weight: bold\">       Param # </span>┃\n",
              "┡━━━━━━━━━━━━━━━━━━━━━━━━━━━━━━━━━╇━━━━━━━━━━━━━━━━━━━━━━━━╇━━━━━━━━━━━━━━━┩\n",
              "│ lstm_4 (<span style=\"color: #0087ff; text-decoration-color: #0087ff\">LSTM</span>)                   │ (<span style=\"color: #00d7ff; text-decoration-color: #00d7ff\">None</span>, <span style=\"color: #00af00; text-decoration-color: #00af00\">5</span>, <span style=\"color: #00af00; text-decoration-color: #00af00\">64</span>)          │        <span style=\"color: #00af00; text-decoration-color: #00af00\">19,968</span> │\n",
              "├─────────────────────────────────┼────────────────────────┼───────────────┤\n",
              "│ dropout_4 (<span style=\"color: #0087ff; text-decoration-color: #0087ff\">Dropout</span>)             │ (<span style=\"color: #00d7ff; text-decoration-color: #00d7ff\">None</span>, <span style=\"color: #00af00; text-decoration-color: #00af00\">5</span>, <span style=\"color: #00af00; text-decoration-color: #00af00\">64</span>)          │             <span style=\"color: #00af00; text-decoration-color: #00af00\">0</span> │\n",
              "├─────────────────────────────────┼────────────────────────┼───────────────┤\n",
              "│ lstm_5 (<span style=\"color: #0087ff; text-decoration-color: #0087ff\">LSTM</span>)                   │ (<span style=\"color: #00d7ff; text-decoration-color: #00d7ff\">None</span>, <span style=\"color: #00af00; text-decoration-color: #00af00\">32</span>)             │        <span style=\"color: #00af00; text-decoration-color: #00af00\">12,416</span> │\n",
              "├─────────────────────────────────┼────────────────────────┼───────────────┤\n",
              "│ dropout_5 (<span style=\"color: #0087ff; text-decoration-color: #0087ff\">Dropout</span>)             │ (<span style=\"color: #00d7ff; text-decoration-color: #00d7ff\">None</span>, <span style=\"color: #00af00; text-decoration-color: #00af00\">32</span>)             │             <span style=\"color: #00af00; text-decoration-color: #00af00\">0</span> │\n",
              "├─────────────────────────────────┼────────────────────────┼───────────────┤\n",
              "│ dense_4 (<span style=\"color: #0087ff; text-decoration-color: #0087ff\">Dense</span>)                 │ (<span style=\"color: #00d7ff; text-decoration-color: #00d7ff\">None</span>, <span style=\"color: #00af00; text-decoration-color: #00af00\">16</span>)             │           <span style=\"color: #00af00; text-decoration-color: #00af00\">528</span> │\n",
              "├─────────────────────────────────┼────────────────────────┼───────────────┤\n",
              "│ dense_5 (<span style=\"color: #0087ff; text-decoration-color: #0087ff\">Dense</span>)                 │ (<span style=\"color: #00d7ff; text-decoration-color: #00d7ff\">None</span>, <span style=\"color: #00af00; text-decoration-color: #00af00\">7</span>)              │           <span style=\"color: #00af00; text-decoration-color: #00af00\">119</span> │\n",
              "└─────────────────────────────────┴────────────────────────┴───────────────┘\n",
              "</pre>\n"
            ]
          },
          "metadata": {}
        },
        {
          "output_type": "display_data",
          "data": {
            "text/plain": [
              "\u001b[1m Total params: \u001b[0m\u001b[38;5;34m33,031\u001b[0m (129.03 KB)\n"
            ],
            "text/html": [
              "<pre style=\"white-space:pre;overflow-x:auto;line-height:normal;font-family:Menlo,'DejaVu Sans Mono',consolas,'Courier New',monospace\"><span style=\"font-weight: bold\"> Total params: </span><span style=\"color: #00af00; text-decoration-color: #00af00\">33,031</span> (129.03 KB)\n",
              "</pre>\n"
            ]
          },
          "metadata": {}
        },
        {
          "output_type": "display_data",
          "data": {
            "text/plain": [
              "\u001b[1m Trainable params: \u001b[0m\u001b[38;5;34m33,031\u001b[0m (129.03 KB)\n"
            ],
            "text/html": [
              "<pre style=\"white-space:pre;overflow-x:auto;line-height:normal;font-family:Menlo,'DejaVu Sans Mono',consolas,'Courier New',monospace\"><span style=\"font-weight: bold\"> Trainable params: </span><span style=\"color: #00af00; text-decoration-color: #00af00\">33,031</span> (129.03 KB)\n",
              "</pre>\n"
            ]
          },
          "metadata": {}
        },
        {
          "output_type": "display_data",
          "data": {
            "text/plain": [
              "\u001b[1m Non-trainable params: \u001b[0m\u001b[38;5;34m0\u001b[0m (0.00 B)\n"
            ],
            "text/html": [
              "<pre style=\"white-space:pre;overflow-x:auto;line-height:normal;font-family:Menlo,'DejaVu Sans Mono',consolas,'Courier New',monospace\"><span style=\"font-weight: bold\"> Non-trainable params: </span><span style=\"color: #00af00; text-decoration-color: #00af00\">0</span> (0.00 B)\n",
              "</pre>\n"
            ]
          },
          "metadata": {}
        }
      ]
    },
    {
      "cell_type": "code",
      "source": [
        "# Train with early stopping\n",
        "early_stopping = EarlyStopping(monitor='val_loss', patience=20, restore_best_weights=True)\n",
        "print(\"\\nTraining model...\")\n",
        "\n",
        "history = model.fit(\n",
        "    X_train, y_train,\n",
        "    validation_data=(X_val, y_val),\n",
        "    epochs=200,\n",
        "    batch_size=4,\n",
        "    callbacks=[early_stopping],\n",
        "    verbose=1\n",
        ")"
      ],
      "metadata": {
        "colab": {
          "base_uri": "https://localhost:8080/"
        },
        "id": "Qm5kaUpXdary",
        "outputId": "6a1cd61b-9ba6-44a5-a35e-c8205d369531"
      },
      "execution_count": null,
      "outputs": [
        {
          "output_type": "stream",
          "name": "stdout",
          "text": [
            "\n",
            "Training model...\n",
            "Epoch 1/200\n",
            "\u001b[1m1/1\u001b[0m \u001b[32m━━━━━━━━━━━━━━━━━━━━\u001b[0m\u001b[37m\u001b[0m \u001b[1m5s\u001b[0m 5s/step - accuracy: 0.0000e+00 - loss: 2.0417 - val_accuracy: 0.0000e+00 - val_loss: 1.9365\n",
            "Epoch 2/200\n",
            "\u001b[1m1/1\u001b[0m \u001b[32m━━━━━━━━━━━━━━━━━━━━\u001b[0m\u001b[37m\u001b[0m \u001b[1m0s\u001b[0m 99ms/step - accuracy: 0.2500 - loss: 1.9480 - val_accuracy: 0.2000 - val_loss: 1.9353\n",
            "Epoch 3/200\n",
            "\u001b[1m1/1\u001b[0m \u001b[32m━━━━━━━━━━━━━━━━━━━━\u001b[0m\u001b[37m\u001b[0m \u001b[1m0s\u001b[0m 137ms/step - accuracy: 0.0000e+00 - loss: 1.9748 - val_accuracy: 0.2000 - val_loss: 1.9333\n",
            "Epoch 4/200\n",
            "\u001b[1m1/1\u001b[0m \u001b[32m━━━━━━━━━━━━━━━━━━━━\u001b[0m\u001b[37m\u001b[0m \u001b[1m0s\u001b[0m 178ms/step - accuracy: 0.0000e+00 - loss: 1.9568 - val_accuracy: 0.2000 - val_loss: 1.9310\n",
            "Epoch 5/200\n",
            "\u001b[1m1/1\u001b[0m \u001b[32m━━━━━━━━━━━━━━━━━━━━\u001b[0m\u001b[37m\u001b[0m \u001b[1m0s\u001b[0m 149ms/step - accuracy: 0.0000e+00 - loss: 1.9304 - val_accuracy: 0.2000 - val_loss: 1.9288\n",
            "Epoch 6/200\n",
            "\u001b[1m1/1\u001b[0m \u001b[32m━━━━━━━━━━━━━━━━━━━━\u001b[0m\u001b[37m\u001b[0m \u001b[1m0s\u001b[0m 112ms/step - accuracy: 0.0000e+00 - loss: 1.9310 - val_accuracy: 0.2000 - val_loss: 1.9265\n",
            "Epoch 7/200\n",
            "\u001b[1m1/1\u001b[0m \u001b[32m━━━━━━━━━━━━━━━━━━━━\u001b[0m\u001b[37m\u001b[0m \u001b[1m0s\u001b[0m 257ms/step - accuracy: 0.2500 - loss: 1.8696 - val_accuracy: 0.2000 - val_loss: 1.9243\n",
            "Epoch 8/200\n",
            "\u001b[1m1/1\u001b[0m \u001b[32m━━━━━━━━━━━━━━━━━━━━\u001b[0m\u001b[37m\u001b[0m \u001b[1m0s\u001b[0m 105ms/step - accuracy: 0.5000 - loss: 1.9096 - val_accuracy: 0.6000 - val_loss: 1.9221\n",
            "Epoch 9/200\n",
            "\u001b[1m1/1\u001b[0m \u001b[32m━━━━━━━━━━━━━━━━━━━━\u001b[0m\u001b[37m\u001b[0m \u001b[1m0s\u001b[0m 139ms/step - accuracy: 0.2500 - loss: 1.8552 - val_accuracy: 0.6000 - val_loss: 1.9201\n",
            "Epoch 10/200\n",
            "\u001b[1m1/1\u001b[0m \u001b[32m━━━━━━━━━━━━━━━━━━━━\u001b[0m\u001b[37m\u001b[0m \u001b[1m0s\u001b[0m 138ms/step - accuracy: 0.2500 - loss: 1.8513 - val_accuracy: 0.6000 - val_loss: 1.9181\n",
            "Epoch 11/200\n",
            "\u001b[1m1/1\u001b[0m \u001b[32m━━━━━━━━━━━━━━━━━━━━\u001b[0m\u001b[37m\u001b[0m \u001b[1m0s\u001b[0m 142ms/step - accuracy: 0.7500 - loss: 1.8320 - val_accuracy: 0.6000 - val_loss: 1.9164\n",
            "Epoch 12/200\n",
            "\u001b[1m1/1\u001b[0m \u001b[32m━━━━━━━━━━━━━━━━━━━━\u001b[0m\u001b[37m\u001b[0m \u001b[1m0s\u001b[0m 138ms/step - accuracy: 0.2500 - loss: 1.8049 - val_accuracy: 0.6000 - val_loss: 1.9147\n",
            "Epoch 13/200\n",
            "\u001b[1m1/1\u001b[0m \u001b[32m━━━━━━━━━━━━━━━━━━━━\u001b[0m\u001b[37m\u001b[0m \u001b[1m0s\u001b[0m 99ms/step - accuracy: 0.5000 - loss: 1.7931 - val_accuracy: 0.6000 - val_loss: 1.9129\n",
            "Epoch 14/200\n",
            "\u001b[1m1/1\u001b[0m \u001b[32m━━━━━━━━━━━━━━━━━━━━\u001b[0m\u001b[37m\u001b[0m \u001b[1m0s\u001b[0m 109ms/step - accuracy: 0.7500 - loss: 1.7393 - val_accuracy: 0.6000 - val_loss: 1.9109\n",
            "Epoch 15/200\n",
            "\u001b[1m1/1\u001b[0m \u001b[32m━━━━━━━━━━━━━━━━━━━━\u001b[0m\u001b[37m\u001b[0m \u001b[1m0s\u001b[0m 134ms/step - accuracy: 0.7500 - loss: 1.7547 - val_accuracy: 0.6000 - val_loss: 1.9090\n",
            "Epoch 16/200\n",
            "\u001b[1m1/1\u001b[0m \u001b[32m━━━━━━━━━━━━━━━━━━━━\u001b[0m\u001b[37m\u001b[0m \u001b[1m0s\u001b[0m 104ms/step - accuracy: 1.0000 - loss: 1.6859 - val_accuracy: 0.6000 - val_loss: 1.9071\n",
            "Epoch 17/200\n",
            "\u001b[1m1/1\u001b[0m \u001b[32m━━━━━━━━━━━━━━━━━━━━\u001b[0m\u001b[37m\u001b[0m \u001b[1m0s\u001b[0m 141ms/step - accuracy: 0.7500 - loss: 1.7550 - val_accuracy: 0.6000 - val_loss: 1.9052\n",
            "Epoch 18/200\n",
            "\u001b[1m1/1\u001b[0m \u001b[32m━━━━━━━━━━━━━━━━━━━━\u001b[0m\u001b[37m\u001b[0m \u001b[1m0s\u001b[0m 103ms/step - accuracy: 0.7500 - loss: 1.6647 - val_accuracy: 0.6000 - val_loss: 1.9033\n",
            "Epoch 19/200\n",
            "\u001b[1m1/1\u001b[0m \u001b[32m━━━━━━━━━━━━━━━━━━━━\u001b[0m\u001b[37m\u001b[0m \u001b[1m0s\u001b[0m 272ms/step - accuracy: 0.7500 - loss: 1.7325 - val_accuracy: 0.6000 - val_loss: 1.9013\n",
            "Epoch 20/200\n",
            "\u001b[1m1/1\u001b[0m \u001b[32m━━━━━━━━━━━━━━━━━━━━\u001b[0m\u001b[37m\u001b[0m \u001b[1m0s\u001b[0m 98ms/step - accuracy: 0.7500 - loss: 1.6623 - val_accuracy: 0.6000 - val_loss: 1.8991\n",
            "Epoch 21/200\n",
            "\u001b[1m1/1\u001b[0m \u001b[32m━━━━━━━━━━━━━━━━━━━━\u001b[0m\u001b[37m\u001b[0m \u001b[1m0s\u001b[0m 104ms/step - accuracy: 0.7500 - loss: 1.5676 - val_accuracy: 0.6000 - val_loss: 1.8966\n",
            "Epoch 22/200\n",
            "\u001b[1m1/1\u001b[0m \u001b[32m━━━━━━━━━━━━━━━━━━━━\u001b[0m\u001b[37m\u001b[0m \u001b[1m0s\u001b[0m 186ms/step - accuracy: 0.7500 - loss: 1.6166 - val_accuracy: 0.6000 - val_loss: 1.8940\n",
            "Epoch 23/200\n",
            "\u001b[1m1/1\u001b[0m \u001b[32m━━━━━━━━━━━━━━━━━━━━\u001b[0m\u001b[37m\u001b[0m \u001b[1m0s\u001b[0m 101ms/step - accuracy: 0.7500 - loss: 1.5977 - val_accuracy: 0.6000 - val_loss: 1.8912\n",
            "Epoch 24/200\n",
            "\u001b[1m1/1\u001b[0m \u001b[32m━━━━━━━━━━━━━━━━━━━━\u001b[0m\u001b[37m\u001b[0m \u001b[1m0s\u001b[0m 101ms/step - accuracy: 1.0000 - loss: 1.5243 - val_accuracy: 0.6000 - val_loss: 1.8885\n",
            "Epoch 25/200\n",
            "\u001b[1m1/1\u001b[0m \u001b[32m━━━━━━━━━━━━━━━━━━━━\u001b[0m\u001b[37m\u001b[0m \u001b[1m0s\u001b[0m 140ms/step - accuracy: 0.5000 - loss: 1.5446 - val_accuracy: 0.6000 - val_loss: 1.8859\n",
            "Epoch 26/200\n",
            "\u001b[1m1/1\u001b[0m \u001b[32m━━━━━━━━━━━━━━━━━━━━\u001b[0m\u001b[37m\u001b[0m \u001b[1m0s\u001b[0m 142ms/step - accuracy: 0.7500 - loss: 1.5546 - val_accuracy: 0.6000 - val_loss: 1.8833\n",
            "Epoch 27/200\n",
            "\u001b[1m1/1\u001b[0m \u001b[32m━━━━━━━━━━━━━━━━━━━━\u001b[0m\u001b[37m\u001b[0m \u001b[1m0s\u001b[0m 103ms/step - accuracy: 0.7500 - loss: 1.3815 - val_accuracy: 0.6000 - val_loss: 1.8807\n",
            "Epoch 28/200\n",
            "\u001b[1m1/1\u001b[0m \u001b[32m━━━━━━━━━━━━━━━━━━━━\u001b[0m\u001b[37m\u001b[0m \u001b[1m0s\u001b[0m 142ms/step - accuracy: 0.7500 - loss: 1.4740 - val_accuracy: 0.6000 - val_loss: 1.8780\n",
            "Epoch 29/200\n",
            "\u001b[1m1/1\u001b[0m \u001b[32m━━━━━━━━━━━━━━━━━━━━\u001b[0m\u001b[37m\u001b[0m \u001b[1m0s\u001b[0m 149ms/step - accuracy: 0.7500 - loss: 1.3774 - val_accuracy: 0.6000 - val_loss: 1.8754\n",
            "Epoch 30/200\n",
            "\u001b[1m1/1\u001b[0m \u001b[32m━━━━━━━━━━━━━━━━━━━━\u001b[0m\u001b[37m\u001b[0m \u001b[1m0s\u001b[0m 137ms/step - accuracy: 1.0000 - loss: 1.2930 - val_accuracy: 0.6000 - val_loss: 1.8730\n",
            "Epoch 31/200\n",
            "\u001b[1m1/1\u001b[0m \u001b[32m━━━━━━━━━━━━━━━━━━━━\u001b[0m\u001b[37m\u001b[0m \u001b[1m0s\u001b[0m 102ms/step - accuracy: 1.0000 - loss: 1.2510 - val_accuracy: 0.6000 - val_loss: 1.8708\n",
            "Epoch 32/200\n",
            "\u001b[1m1/1\u001b[0m \u001b[32m━━━━━━━━━━━━━━━━━━━━\u001b[0m\u001b[37m\u001b[0m \u001b[1m0s\u001b[0m 97ms/step - accuracy: 1.0000 - loss: 1.1513 - val_accuracy: 0.6000 - val_loss: 1.8689\n",
            "Epoch 33/200\n",
            "\u001b[1m1/1\u001b[0m \u001b[32m━━━━━━━━━━━━━━━━━━━━\u001b[0m\u001b[37m\u001b[0m \u001b[1m0s\u001b[0m 98ms/step - accuracy: 0.7500 - loss: 1.1969 - val_accuracy: 0.6000 - val_loss: 1.8673\n",
            "Epoch 34/200\n",
            "\u001b[1m1/1\u001b[0m \u001b[32m━━━━━━━━━━━━━━━━━━━━\u001b[0m\u001b[37m\u001b[0m \u001b[1m0s\u001b[0m 134ms/step - accuracy: 0.7500 - loss: 1.0932 - val_accuracy: 0.6000 - val_loss: 1.8659\n",
            "Epoch 35/200\n",
            "\u001b[1m1/1\u001b[0m \u001b[32m━━━━━━━━━━━━━━━━━━━━\u001b[0m\u001b[37m\u001b[0m \u001b[1m0s\u001b[0m 106ms/step - accuracy: 0.7500 - loss: 1.1911 - val_accuracy: 0.6000 - val_loss: 1.8649\n",
            "Epoch 36/200\n",
            "\u001b[1m1/1\u001b[0m \u001b[32m━━━━━━━━━━━━━━━━━━━━\u001b[0m\u001b[37m\u001b[0m \u001b[1m0s\u001b[0m 142ms/step - accuracy: 1.0000 - loss: 1.0473 - val_accuracy: 0.6000 - val_loss: 1.8644\n",
            "Epoch 37/200\n",
            "\u001b[1m1/1\u001b[0m \u001b[32m━━━━━━━━━━━━━━━━━━━━\u001b[0m\u001b[37m\u001b[0m \u001b[1m0s\u001b[0m 104ms/step - accuracy: 0.7500 - loss: 1.1180 - val_accuracy: 0.6000 - val_loss: 1.8641\n",
            "Epoch 38/200\n",
            "\u001b[1m1/1\u001b[0m \u001b[32m━━━━━━━━━━━━━━━━━━━━\u001b[0m\u001b[37m\u001b[0m \u001b[1m0s\u001b[0m 102ms/step - accuracy: 1.0000 - loss: 1.1445 - val_accuracy: 0.6000 - val_loss: 1.8642\n",
            "Epoch 39/200\n",
            "\u001b[1m1/1\u001b[0m \u001b[32m━━━━━━━━━━━━━━━━━━━━\u001b[0m\u001b[37m\u001b[0m \u001b[1m0s\u001b[0m 142ms/step - accuracy: 1.0000 - loss: 0.9902 - val_accuracy: 0.6000 - val_loss: 1.8649\n",
            "Epoch 40/200\n",
            "\u001b[1m1/1\u001b[0m \u001b[32m━━━━━━━━━━━━━━━━━━━━\u001b[0m\u001b[37m\u001b[0m \u001b[1m0s\u001b[0m 138ms/step - accuracy: 0.7500 - loss: 0.9016 - val_accuracy: 0.6000 - val_loss: 1.8659\n",
            "Epoch 41/200\n",
            "\u001b[1m1/1\u001b[0m \u001b[32m━━━━━━━━━━━━━━━━━━━━\u001b[0m\u001b[37m\u001b[0m \u001b[1m0s\u001b[0m 184ms/step - accuracy: 1.0000 - loss: 0.9884 - val_accuracy: 0.6000 - val_loss: 1.8677\n",
            "Epoch 42/200\n",
            "\u001b[1m1/1\u001b[0m \u001b[32m━━━━━━━━━━━━━━━━━━━━\u001b[0m\u001b[37m\u001b[0m \u001b[1m0s\u001b[0m 152ms/step - accuracy: 1.0000 - loss: 0.7898 - val_accuracy: 0.6000 - val_loss: 1.8701\n",
            "Epoch 43/200\n",
            "\u001b[1m1/1\u001b[0m \u001b[32m━━━━━━━━━━━━━━━━━━━━\u001b[0m\u001b[37m\u001b[0m \u001b[1m0s\u001b[0m 99ms/step - accuracy: 1.0000 - loss: 0.8042 - val_accuracy: 0.6000 - val_loss: 1.8729\n",
            "Epoch 44/200\n",
            "\u001b[1m1/1\u001b[0m \u001b[32m━━━━━━━━━━━━━━━━━━━━\u001b[0m\u001b[37m\u001b[0m \u001b[1m0s\u001b[0m 109ms/step - accuracy: 1.0000 - loss: 0.7055 - val_accuracy: 0.6000 - val_loss: 1.8757\n",
            "Epoch 45/200\n",
            "\u001b[1m1/1\u001b[0m \u001b[32m━━━━━━━━━━━━━━━━━━━━\u001b[0m\u001b[37m\u001b[0m \u001b[1m0s\u001b[0m 175ms/step - accuracy: 1.0000 - loss: 0.8017 - val_accuracy: 0.6000 - val_loss: 1.8795\n",
            "Epoch 46/200\n",
            "\u001b[1m1/1\u001b[0m \u001b[32m━━━━━━━━━━━━━━━━━━━━\u001b[0m\u001b[37m\u001b[0m \u001b[1m0s\u001b[0m 264ms/step - accuracy: 1.0000 - loss: 0.6817 - val_accuracy: 0.6000 - val_loss: 1.8842\n",
            "Epoch 47/200\n",
            "\u001b[1m1/1\u001b[0m \u001b[32m━━━━━━━━━━━━━━━━━━━━\u001b[0m\u001b[37m\u001b[0m \u001b[1m0s\u001b[0m 101ms/step - accuracy: 1.0000 - loss: 0.6092 - val_accuracy: 0.6000 - val_loss: 1.8893\n",
            "Epoch 48/200\n",
            "\u001b[1m1/1\u001b[0m \u001b[32m━━━━━━━━━━━━━━━━━━━━\u001b[0m\u001b[37m\u001b[0m \u001b[1m0s\u001b[0m 97ms/step - accuracy: 1.0000 - loss: 0.6040 - val_accuracy: 0.6000 - val_loss: 1.8940\n",
            "Epoch 49/200\n",
            "\u001b[1m1/1\u001b[0m \u001b[32m━━━━━━━━━━━━━━━━━━━━\u001b[0m\u001b[37m\u001b[0m \u001b[1m0s\u001b[0m 140ms/step - accuracy: 0.7500 - loss: 0.6558 - val_accuracy: 0.6000 - val_loss: 1.8992\n",
            "Epoch 50/200\n",
            "\u001b[1m1/1\u001b[0m \u001b[32m━━━━━━━━━━━━━━━━━━━━\u001b[0m\u001b[37m\u001b[0m \u001b[1m0s\u001b[0m 191ms/step - accuracy: 0.7500 - loss: 0.6563 - val_accuracy: 0.6000 - val_loss: 1.9044\n",
            "Epoch 51/200\n",
            "\u001b[1m1/1\u001b[0m \u001b[32m━━━━━━━━━━━━━━━━━━━━\u001b[0m\u001b[37m\u001b[0m \u001b[1m0s\u001b[0m 104ms/step - accuracy: 1.0000 - loss: 0.4274 - val_accuracy: 0.6000 - val_loss: 1.9088\n",
            "Epoch 52/200\n",
            "\u001b[1m1/1\u001b[0m \u001b[32m━━━━━━━━━━━━━━━━━━━━\u001b[0m\u001b[37m\u001b[0m \u001b[1m0s\u001b[0m 175ms/step - accuracy: 1.0000 - loss: 0.5241 - val_accuracy: 0.6000 - val_loss: 1.9137\n",
            "Epoch 53/200\n",
            "\u001b[1m1/1\u001b[0m \u001b[32m━━━━━━━━━━━━━━━━━━━━\u001b[0m\u001b[37m\u001b[0m \u001b[1m0s\u001b[0m 104ms/step - accuracy: 1.0000 - loss: 0.4305 - val_accuracy: 0.6000 - val_loss: 1.9189\n",
            "Epoch 54/200\n",
            "\u001b[1m1/1\u001b[0m \u001b[32m━━━━━━━━━━━━━━━━━━━━\u001b[0m\u001b[37m\u001b[0m \u001b[1m0s\u001b[0m 94ms/step - accuracy: 1.0000 - loss: 0.3221 - val_accuracy: 0.6000 - val_loss: 1.9248\n",
            "Epoch 55/200\n",
            "\u001b[1m1/1\u001b[0m \u001b[32m━━━━━━━━━━━━━━━━━━━━\u001b[0m\u001b[37m\u001b[0m \u001b[1m0s\u001b[0m 100ms/step - accuracy: 1.0000 - loss: 0.4660 - val_accuracy: 0.6000 - val_loss: 1.9309\n",
            "Epoch 56/200\n",
            "\u001b[1m1/1\u001b[0m \u001b[32m━━━━━━━━━━━━━━━━━━━━\u001b[0m\u001b[37m\u001b[0m \u001b[1m0s\u001b[0m 152ms/step - accuracy: 0.7500 - loss: 0.5134 - val_accuracy: 0.6000 - val_loss: 1.9369\n",
            "Epoch 57/200\n",
            "\u001b[1m1/1\u001b[0m \u001b[32m━━━━━━━━━━━━━━━━━━━━\u001b[0m\u001b[37m\u001b[0m \u001b[1m0s\u001b[0m 129ms/step - accuracy: 1.0000 - loss: 0.3416 - val_accuracy: 0.6000 - val_loss: 1.9428\n"
          ]
        }
      ]
    },
    {
      "cell_type": "code",
      "source": [
        "# Evaluate model\n",
        "val_loss, val_acc = model.evaluate(X_val, y_val, verbose=0)\n",
        "print(f\"\\nValidation Accuracy: {val_acc:.2%}\")"
      ],
      "metadata": {
        "colab": {
          "base_uri": "https://localhost:8080/"
        },
        "id": "6l6RA7_admgq",
        "outputId": "b8a27846-8c17-40d6-8566-8eb65ad329e5"
      },
      "execution_count": null,
      "outputs": [
        {
          "output_type": "stream",
          "name": "stdout",
          "text": [
            "\n",
            "Validation Accuracy: 60.00%\n"
          ]
        }
      ]
    },
    {
      "cell_type": "code",
      "source": [
        "# %% [code]\n",
        "# Prepare last sequence for prediction\n",
        "last_sequence = scaled_features[-sequence_length:].reshape(1, sequence_length, -1)"
      ],
      "metadata": {
        "id": "u_dirEPEdubs"
      },
      "execution_count": null,
      "outputs": []
    },
    {
      "cell_type": "code",
      "source": [
        "# Make prediction\n",
        "prediction = model.predict(last_sequence, verbose=0)\n",
        "predicted_class = np.argmax(prediction) - 3  # Convert back to -3 to +3\n",
        "confidence = np.max(prediction) * 100"
      ],
      "metadata": {
        "id": "fbcPOQ0vdyio"
      },
      "execution_count": null,
      "outputs": []
    },
    {
      "cell_type": "code",
      "source": [
        "# Create prediction report\n",
        "movement_descriptions = {\n",
        "    -3: \"STRONG DECLINE (< -2%)\",\n",
        "    -2: \"MODERATE DECLINE (-2% to -1%)\",\n",
        "    -1: \"MILD DECLINE (-1% to -0.5%)\",\n",
        "    0: \"NEUTRAL (-0.5% to 0.5%)\",\n",
        "    1: \"MILD RISE (0.5% to 1%)\",\n",
        "    2: \"MODERATE RISE (1% to 2%)\",\n",
        "    3: \"STRONG RISE (> 2%)\"\n",
        "}\n"
      ],
      "metadata": {
        "id": "aenrolTJd3Nn"
      },
      "execution_count": null,
      "outputs": []
    },
    {
      "cell_type": "code",
      "source": [
        "# %% [code]\n",
        "# Generate professional report\n",
        "print(\"\\n\" + \"=\"*70)\n",
        "print(\"SBI STOCK PREDICTION REPORT\")\n",
        "print(\"=\"*70)\n",
        "print(f\"Analysis Date: {pd.Timestamp.now().strftime('%Y-%m-%d %H:%M')}\")\n",
        "print(f\"Prediction Date: {(df['Date'].max() + pd.Timedelta(days=1)).strftime('%Y-%m-%d')}\")\n",
        "print(f\"Model Accuracy: {val_acc:.2%}\")\n",
        "print(f\"Training Period: {df['Date'].min().date()} to {df['Date'].max().date()}\")\n",
        "\n",
        "print(\"\\n\" + \"-\"*70)\n",
        "print(\"NEXT DAY PREDICTION:\")\n",
        "print(f\"Predicted Movement: {predicted_class} → {movement_descriptions[predicted_class]}\")\n",
        "print(f\"Confidence: {confidence:.1f}%\")\n",
        "\n",
        "print(\"\\nProbability Distribution:\")\n",
        "for i, prob in enumerate(prediction[0]):\n",
        "    movement = i - 3\n",
        "    print(f\"  {movement_descriptions[movement]}: {prob*100:.1f}%\")\n",
        "print(\"-\"*70)"
      ],
      "metadata": {
        "colab": {
          "base_uri": "https://localhost:8080/"
        },
        "id": "H-g3kQ4Fd8OM",
        "outputId": "194bd501-362e-430b-e331-db2ce75bf429"
      },
      "execution_count": null,
      "outputs": [
        {
          "output_type": "stream",
          "name": "stdout",
          "text": [
            "\n",
            "======================================================================\n",
            "SBI STOCK PREDICTION REPORT\n",
            "======================================================================\n",
            "Analysis Date: 2025-06-19 18:45\n",
            "Prediction Date: 2025-06-22\n",
            "Model Accuracy: 60.00%\n",
            "Training Period: 2025-06-05 to 2025-06-21\n",
            "\n",
            "----------------------------------------------------------------------\n",
            "NEXT DAY PREDICTION:\n",
            "Predicted Movement: 0 → NEUTRAL (-0.5% to 0.5%)\n",
            "Confidence: 15.1%\n",
            "\n",
            "Probability Distribution:\n",
            "  STRONG DECLINE (< -2%): 13.9%\n",
            "  MODERATE DECLINE (-2% to -1%): 14.5%\n",
            "  MILD DECLINE (-1% to -0.5%): 14.2%\n",
            "  NEUTRAL (-0.5% to 0.5%): 15.1%\n",
            "  MILD RISE (0.5% to 1%): 14.2%\n",
            "  MODERATE RISE (1% to 2%): 14.0%\n",
            "  STRONG RISE (> 2%): 14.2%\n",
            "----------------------------------------------------------------------\n"
          ]
        }
      ]
    },
    {
      "cell_type": "code",
      "source": [
        "# Technical indicators\n",
        "last_row = df.iloc[-1]\n",
        "print(\"\\nTECHNICAL INDICATORS:\")\n",
        "print(f\"Current Price: ₹{last_row['Price']:.2f}\")\n",
        "print(f\"5-Day Moving Average: ₹{last_row['5D_MA']:.2f} ({'Bullish' if last_row['Price'] > last_row['5D_MA'] else 'Bearish'} crossover)\")\n",
        "print(f\"10-Day Moving Average: ₹{last_row['10D_MA']:.2f}\")\n",
        "print(f\"Recent Volatility: {last_row['5D_Volatility']:.2f} points\")\n",
        "print(f\"Price Position vs 5D MA: {last_row['Price_vs_5DMA']*100:.2f}%\")\n",
        "\n",
        "print(\"\\n\" + \"-\"*70)\n",
        "print(\"RECENT PERFORMANCE:\")\n",
        "print(df[['Date', 'Price', 'Change %']].tail(5).to_string(index=False))\n",
        "print(\"=\"*70)"
      ],
      "metadata": {
        "colab": {
          "base_uri": "https://localhost:8080/"
        },
        "id": "Ff88SL-jeFdF",
        "outputId": "1caed80e-cd8f-4417-d079-169814e83da1"
      },
      "execution_count": null,
      "outputs": [
        {
          "output_type": "stream",
          "name": "stdout",
          "text": [
            "\n",
            "TECHNICAL INDICATORS:\n",
            "Current Price: ₹787.10\n",
            "5-Day Moving Average: ₹788.95 (Bearish crossover)\n",
            "10-Day Moving Average: ₹794.29\n",
            "Recent Volatility: 11.10 points\n",
            "Price Position vs 5D MA: -0.23%\n",
            "\n",
            "----------------------------------------------------------------------\n",
            "RECENT PERFORMANCE:\n",
            "      Date  Price  Change %\n",
            "2025-06-18 791.90     -0.05\n",
            "2025-06-19 785.10     -0.86\n",
            "2025-06-19 795.00      0.37\n",
            "2025-06-20 785.65     -1.18\n",
            "2025-06-21 787.10      0.18\n",
            "======================================================================\n"
          ]
        }
      ]
    },
    {
      "cell_type": "code",
      "source": [
        "# Plot training history\n",
        "plt.figure(figsize=(12, 5))\n",
        "plt.subplot(1, 2, 1)\n",
        "plt.plot(history.history['accuracy'], label='Train Accuracy')\n",
        "plt.plot(history.history['val_accuracy'], label='Validation Accuracy')\n",
        "plt.title('Model Accuracy')\n",
        "plt.ylabel('Accuracy')\n",
        "plt.xlabel('Epoch')\n",
        "plt.legend()\n",
        "\n",
        "plt.subplot(1, 2, 2)\n",
        "plt.plot(history.history['loss'], label='Train Loss')\n",
        "plt.plot(history.history['val_loss'], label='Validation Loss')\n",
        "plt.title('Model Loss')\n",
        "plt.ylabel('Loss')\n",
        "plt.xlabel('Epoch')\n",
        "plt.legend()\n",
        "plt.tight_layout()\n",
        "plt.show()\n"
      ],
      "metadata": {
        "colab": {
          "base_uri": "https://localhost:8080/",
          "height": 480
        },
        "id": "jO3IvmyXeTcf",
        "outputId": "e58dd368-965a-4b23-fb8a-4b0002de6e70"
      },
      "execution_count": null,
      "outputs": [
        {
          "output_type": "display_data",
          "data": {
            "text/plain": [
              "<Figure size 1200x500 with 2 Axes>"
            ],
            "image/png": "[encoded data removed]"
          },
          "metadata": {}
        }
      ]
    },
    {
      "cell_type": "code",
      "source": [
        "# Plot prediction probabilities\n",
        "plt.figure(figsize=(10, 5))\n",
        "movements = [f\"{i}\\n({movement_descriptions[i].split()[0]})\" for i in range(-3, 4)]\n",
        "plt.bar(movements, prediction[0] * 100, color='dodgerblue')\n",
        "plt.title('SBI Stock Movement Probability Distribution', fontsize=14)\n",
        "plt.ylabel('Probability (%)')\n",
        "plt.ylim(0, 100)\n",
        "plt.grid(axis='y', linestyle='--', alpha=0.7)\n",
        "plt.tight_layout()\n",
        "plt.show()"
      ],
      "metadata": {
        "colab": {
          "base_uri": "https://localhost:8080/",
          "height": 507
        },
        "id": "TBlORHtDedeF",
        "outputId": "5ac56ad5-a011-45b8-e7c0-0a0bff11e6b9"
      },
      "execution_count": null,
      "outputs": [
        {
          "output_type": "display_data",
          "data": {
            "text/plain": [
              "<Figure size 1000x500 with 1 Axes>"
            ],
            "image/png": "[encoded data removed]"
          },
          "metadata": {}
        }
      ]
    }
  ]
}